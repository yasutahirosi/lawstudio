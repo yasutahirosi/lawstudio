{
 "cells": [
  {
   "cell_type": "code",
   "execution_count": 38,
   "id": "desperate-print",
   "metadata": {},
   "outputs": [],
   "source": [
    "import pandas as pd\n",
    "import dataframe_image as dfi\n",
    "\n",
    "Chinese=[90,80]\n",
    "Korean=[80,70]\n",
    "Japanese=[70,60]\n",
    "\n",
    "data=pd.DataFrame([Chinese,Korean,Japanese]).transpose()\n",
    "data.columns=['Chinese','Korean','Japanese']\n",
    "data.index=['Male','Female']"
   ]
  },
  {
   "cell_type": "code",
   "execution_count": 41,
   "id": "stunning-granny",
   "metadata": {},
   "outputs": [
    {
     "data": {
      "text/html": [
       "<div>\n",
       "<style scoped>\n",
       "    .dataframe tbody tr th:only-of-type {\n",
       "        vertical-align: middle;\n",
       "    }\n",
       "\n",
       "    .dataframe tbody tr th {\n",
       "        vertical-align: top;\n",
       "    }\n",
       "\n",
       "    .dataframe thead th {\n",
       "        text-align: right;\n",
       "    }\n",
       "</style>\n",
       "<table border=\"1\" class=\"dataframe\">\n",
       "  <thead>\n",
       "    <tr style=\"text-align: right;\">\n",
       "      <th></th>\n",
       "      <th>Chinese</th>\n",
       "      <th>Korean</th>\n",
       "      <th>Japanese</th>\n",
       "    </tr>\n",
       "  </thead>\n",
       "  <tbody>\n",
       "    <tr>\n",
       "      <th>Male</th>\n",
       "      <td>90</td>\n",
       "      <td>80</td>\n",
       "      <td>70</td>\n",
       "    </tr>\n",
       "    <tr>\n",
       "      <th>Female</th>\n",
       "      <td>80</td>\n",
       "      <td>70</td>\n",
       "      <td>60</td>\n",
       "    </tr>\n",
       "  </tbody>\n",
       "</table>\n",
       "</div>"
      ],
      "text/plain": [
       "        Chinese  Korean  Japanese\n",
       "Male         90      80        70\n",
       "Female       80      70        60"
      ]
     },
     "execution_count": 41,
     "metadata": {},
     "output_type": "execute_result"
    }
   ],
   "source": [
    "data"
   ]
  },
  {
   "cell_type": "code",
   "execution_count": 23,
   "id": "existing-grade",
   "metadata": {},
   "outputs": [],
   "source": [
    "x,y=[],[]\n",
    "for i,j in data.iterrows():\n",
    "    x.append(i)\n",
    "    y.append(j)"
   ]
  },
  {
   "cell_type": "code",
   "execution_count": 24,
   "id": "indonesian-cement",
   "metadata": {},
   "outputs": [
    {
     "data": {
      "text/plain": [
       "['Male', 'Female']"
      ]
     },
     "execution_count": 24,
     "metadata": {},
     "output_type": "execute_result"
    }
   ],
   "source": [
    "x"
   ]
  },
  {
   "cell_type": "code",
   "execution_count": 29,
   "id": "solid-bullet",
   "metadata": {},
   "outputs": [
    {
     "data": {
      "text/plain": [
       "[Chinese     90\n",
       " Korean      80\n",
       " Japanese    70\n",
       " Name: Male, dtype: int64,\n",
       " Chinese     80\n",
       " Korean      70\n",
       " Japanese    60\n",
       " Name: Female, dtype: int64]"
      ]
     },
     "execution_count": 29,
     "metadata": {},
     "output_type": "execute_result"
    }
   ],
   "source": [
    "y"
   ]
  },
  {
   "cell_type": "code",
   "execution_count": 46,
   "id": "cognitive-chess",
   "metadata": {},
   "outputs": [],
   "source": [
    "c,u=[],[]\n",
    "for col,col_value in y[0].iteritems():\n",
    "    c.append(col)\n",
    "    u.append(col_value)\n",
    "    "
   ]
  },
  {
   "cell_type": "code",
   "execution_count": 47,
   "id": "cosmetic-classic",
   "metadata": {},
   "outputs": [
    {
     "data": {
      "text/plain": [
       "['Chinese', 'Korean', 'Japanese']"
      ]
     },
     "execution_count": 47,
     "metadata": {},
     "output_type": "execute_result"
    }
   ],
   "source": [
    "c"
   ]
  },
  {
   "cell_type": "code",
   "execution_count": 48,
   "id": "popular-magic",
   "metadata": {},
   "outputs": [
    {
     "data": {
      "text/plain": [
       "[90, 80, 70]"
      ]
     },
     "execution_count": 48,
     "metadata": {},
     "output_type": "execute_result"
    }
   ],
   "source": [
    "u"
   ]
  },
  {
   "cell_type": "code",
   "execution_count": 63,
   "id": "executive-address",
   "metadata": {},
   "outputs": [],
   "source": [
    "iterdata=[]\n",
    "for row,row_details in data.iterrows():\n",
    "    for col,value in row_details.iteritems():\n",
    "        iterdata.append(row+\"'s \"+col+' mean score is '+str(value))\n",
    "        "
   ]
  },
  {
   "cell_type": "code",
   "execution_count": 64,
   "id": "premium-raising",
   "metadata": {},
   "outputs": [
    {
     "data": {
      "text/plain": [
       "[\"Male's Chinese mean score is 90\",\n",
       " \"Male's Korean mean score is 80\",\n",
       " \"Male's Japanese mean score is 70\",\n",
       " \"Female's Chinese mean score is 80\",\n",
       " \"Female's Korean mean score is 70\",\n",
       " \"Female's Japanese mean score is 60\"]"
      ]
     },
     "execution_count": 64,
     "metadata": {},
     "output_type": "execute_result"
    }
   ],
   "source": [
    "iterdata"
   ]
  },
  {
   "cell_type": "code",
   "execution_count": null,
   "id": "optimum-wagon",
   "metadata": {},
   "outputs": [],
   "source": []
  }
 ],
 "metadata": {
  "kernelspec": {
   "display_name": "Python 3",
   "language": "python",
   "name": "python3"
  },
  "language_info": {
   "codemirror_mode": {
    "name": "ipython",
    "version": 3
   },
   "file_extension": ".py",
   "mimetype": "text/x-python",
   "name": "python",
   "nbconvert_exporter": "python",
   "pygments_lexer": "ipython3",
   "version": "3.8.5"
  }
 },
 "nbformat": 4,
 "nbformat_minor": 5
}
